{
  "nbformat": 4,
  "nbformat_minor": 0,
  "metadata": {
    "colab": {
      "provenance": [],
      "collapsed_sections": [],
      "authorship_tag": "ABX9TyPQJvdNkajIcWHgGZ6rwyBc",
      "include_colab_link": true
    },
    "kernelspec": {
      "name": "python3",
      "display_name": "Python 3"
    },
    "language_info": {
      "name": "python"
    }
  },
  "cells": [
    {
      "cell_type": "markdown",
      "metadata": {
        "id": "view-in-github",
        "colab_type": "text"
      },
      "source": [
        "<a href=\"https://colab.research.google.com/github/rahulmadavi09/task_01_Basic_Strings/blob/main/Implement_strstr.ipynb\" target=\"_parent\"><img src=\"https://colab.research.google.com/assets/colab-badge.svg\" alt=\"Open In Colab\"/></a>"
      ]
    },
    {
      "cell_type": "code",
      "source": [
        "def strstr(s,x):\n",
        "    if x in s:\n",
        "        return s.find(x)\n",
        "        \n",
        "    else:\n",
        "        return -1\n",
        "        "
      ],
      "metadata": {
        "id": "SA3PwFLyyY5Y"
      },
      "execution_count": 7,
      "outputs": []
    },
    {
      "cell_type": "code",
      "source": [
        "s='GeeksForGeeks'\n",
        "x='Fr'"
      ],
      "metadata": {
        "id": "o6Xkoh8DHSX7"
      },
      "execution_count": 8,
      "outputs": []
    },
    {
      "cell_type": "code",
      "source": [
        "strstr(s,x)"
      ],
      "metadata": {
        "colab": {
          "base_uri": "https://localhost:8080/"
        },
        "id": "i1CQs1krHfdx",
        "outputId": "d2afe5a8-b422-483a-d5b9-861c4385e006"
      },
      "execution_count": 5,
      "outputs": [
        {
          "output_type": "execute_result",
          "data": {
            "text/plain": [
              "-1"
            ]
          },
          "metadata": {},
          "execution_count": 5
        }
      ]
    },
    {
      "cell_type": "code",
      "source": [],
      "metadata": {
        "id": "ntA4cLlCHiOB"
      },
      "execution_count": null,
      "outputs": []
    }
  ]
}